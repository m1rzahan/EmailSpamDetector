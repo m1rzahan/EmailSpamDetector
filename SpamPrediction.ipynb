{
  "cells": [
    {
      "cell_type": "markdown",
      "metadata": {
        "id": "view-in-github",
        "colab_type": "text"
      },
      "source": [
        "<a href=\"https://colab.research.google.com/github/m1rzahan/EmailSpamDetector/blob/main/SENG352_Term_Project.ipynb\" target=\"_parent\"><img src=\"https://colab.research.google.com/assets/colab-badge.svg\" alt=\"Open In Colab\"/></a>"
      ]
    },
    {
      "cell_type": "markdown",
      "source": [
        "SPAM MAIL DETECTION\n",
        "In business or daily life, we encounter too many spam mails.\n",
        "To solve this problem, I analyzed a dataset of spam and ham mails and there is a 96% probability that we can tell if the message is spam or ham."
      ],
      "metadata": {
        "id": "t9RXdeTEsmsR"
      }
    },
    {
      "cell_type": "markdown",
      "source": [
        ""
      ],
      "metadata": {
        "id": "0-A4b_iPshZi"
      }
    },
    {
      "cell_type": "code",
      "source": [
        "import numpy as np\n",
        "import pandas as pd\n",
        "from sklearn.model_selection import train_test_split\n",
        "from sklearn.feature_extraction.text import TfidfVectorizer\n",
        "from sklearn.linear_model import LogisticRegression\n",
        "from sklearn.metrics import accuracy_score\n",
        "from sklearn.preprocessing import StandardScaler\n",
        "import matplotlib.pyplot as plt\n",
        "from sklearn.metrics import classification_report, confusion_matrix, accuracy_score \n",
        "from sklearn import metrics"
      ],
      "metadata": {
        "id": "Uk8e0r14l5x0"
      },
      "execution_count": null,
      "outputs": []
    },
    {
      "cell_type": "markdown",
      "source": [
        "Reading dataset from csv file."
      ],
      "metadata": {
        "id": "y7keKAD4qR3T"
      }
    },
    {
      "cell_type": "code",
      "source": [
        "# loading the data from csv file to a pandas Dataframe\n",
        "data = pd.read_csv('mail_dataset.csv')"
      ],
      "metadata": {
        "id": "gBrfPd7Ml6OS"
      },
      "execution_count": null,
      "outputs": []
    },
    {
      "cell_type": "code",
      "source": [
        "print(data)"
      ],
      "metadata": {
        "colab": {
          "base_uri": "https://localhost:8080/"
        },
        "id": "vH_EvByZl8qP",
        "outputId": "2d2d3fa1-f201-4567-d822-af020f18655c"
      },
      "execution_count": null,
      "outputs": [
        {
          "output_type": "stream",
          "name": "stdout",
          "text": [
            "     Category                                            Message\n",
            "0         ham  Go until jurong point, crazy.. Available only ...\n",
            "1         ham                      Ok lar... Joking wif u oni...\n",
            "2        spam  Free entry in 2 a wkly comp to win FA Cup fina...\n",
            "3         ham  U dun say so early hor... U c already then say...\n",
            "4         ham  Nah I don't think he goes to usf, he lives aro...\n",
            "...       ...                                                ...\n",
            "5567     spam  This is the 2nd time we have tried 2 contact u...\n",
            "5568      ham               Will ü b going to esplanade fr home?\n",
            "5569      ham  Pity, * was in mood for that. So...any other s...\n",
            "5570      ham                   Dont forget to do your homeworks\n",
            "5571      ham                         Rofl. Its true to its name\n",
            "\n",
            "[5572 rows x 2 columns]\n"
          ]
        }
      ]
    },
    {
      "cell_type": "markdown",
      "source": [
        "Deleting null strings"
      ],
      "metadata": {
        "id": "xEP0gowIqWwk"
      }
    },
    {
      "cell_type": "code",
      "source": [
        "# delete null strings\n",
        "mail_data = data.dropna()"
      ],
      "metadata": {
        "id": "F3hs2btrl90C"
      },
      "execution_count": null,
      "outputs": []
    },
    {
      "cell_type": "code",
      "source": [
        "# printing the first 5 rows of the dataframe\n",
        "mail_data.head()"
      ],
      "metadata": {
        "colab": {
          "base_uri": "https://localhost:8080/",
          "height": 206
        },
        "id": "GH-vGlefl-sW",
        "outputId": "2705acf1-3a78-496e-d371-134867d60f8b"
      },
      "execution_count": null,
      "outputs": [
        {
          "output_type": "execute_result",
          "data": {
            "text/plain": [
              "  Category                                            Message\n",
              "0      ham  Go until jurong point, crazy.. Available only ...\n",
              "1      ham                      Ok lar... Joking wif u oni...\n",
              "2     spam  Free entry in 2 a wkly comp to win FA Cup fina...\n",
              "3      ham  U dun say so early hor... U c already then say...\n",
              "4      ham  Nah I don't think he goes to usf, he lives aro..."
            ],
            "text/html": [
              "\n",
              "  <div id=\"df-54191faf-52eb-4b06-82d1-934b9b3c489f\">\n",
              "    <div class=\"colab-df-container\">\n",
              "      <div>\n",
              "<style scoped>\n",
              "    .dataframe tbody tr th:only-of-type {\n",
              "        vertical-align: middle;\n",
              "    }\n",
              "\n",
              "    .dataframe tbody tr th {\n",
              "        vertical-align: top;\n",
              "    }\n",
              "\n",
              "    .dataframe thead th {\n",
              "        text-align: right;\n",
              "    }\n",
              "</style>\n",
              "<table border=\"1\" class=\"dataframe\">\n",
              "  <thead>\n",
              "    <tr style=\"text-align: right;\">\n",
              "      <th></th>\n",
              "      <th>Category</th>\n",
              "      <th>Message</th>\n",
              "    </tr>\n",
              "  </thead>\n",
              "  <tbody>\n",
              "    <tr>\n",
              "      <th>0</th>\n",
              "      <td>ham</td>\n",
              "      <td>Go until jurong point, crazy.. Available only ...</td>\n",
              "    </tr>\n",
              "    <tr>\n",
              "      <th>1</th>\n",
              "      <td>ham</td>\n",
              "      <td>Ok lar... Joking wif u oni...</td>\n",
              "    </tr>\n",
              "    <tr>\n",
              "      <th>2</th>\n",
              "      <td>spam</td>\n",
              "      <td>Free entry in 2 a wkly comp to win FA Cup fina...</td>\n",
              "    </tr>\n",
              "    <tr>\n",
              "      <th>3</th>\n",
              "      <td>ham</td>\n",
              "      <td>U dun say so early hor... U c already then say...</td>\n",
              "    </tr>\n",
              "    <tr>\n",
              "      <th>4</th>\n",
              "      <td>ham</td>\n",
              "      <td>Nah I don't think he goes to usf, he lives aro...</td>\n",
              "    </tr>\n",
              "  </tbody>\n",
              "</table>\n",
              "</div>\n",
              "      <button class=\"colab-df-convert\" onclick=\"convertToInteractive('df-54191faf-52eb-4b06-82d1-934b9b3c489f')\"\n",
              "              title=\"Convert this dataframe to an interactive table.\"\n",
              "              style=\"display:none;\">\n",
              "        \n",
              "  <svg xmlns=\"http://www.w3.org/2000/svg\" height=\"24px\"viewBox=\"0 0 24 24\"\n",
              "       width=\"24px\">\n",
              "    <path d=\"M0 0h24v24H0V0z\" fill=\"none\"/>\n",
              "    <path d=\"M18.56 5.44l.94 2.06.94-2.06 2.06-.94-2.06-.94-.94-2.06-.94 2.06-2.06.94zm-11 1L8.5 8.5l.94-2.06 2.06-.94-2.06-.94L8.5 2.5l-.94 2.06-2.06.94zm10 10l.94 2.06.94-2.06 2.06-.94-2.06-.94-.94-2.06-.94 2.06-2.06.94z\"/><path d=\"M17.41 7.96l-1.37-1.37c-.4-.4-.92-.59-1.43-.59-.52 0-1.04.2-1.43.59L10.3 9.45l-7.72 7.72c-.78.78-.78 2.05 0 2.83L4 21.41c.39.39.9.59 1.41.59.51 0 1.02-.2 1.41-.59l7.78-7.78 2.81-2.81c.8-.78.8-2.07 0-2.86zM5.41 20L4 18.59l7.72-7.72 1.47 1.35L5.41 20z\"/>\n",
              "  </svg>\n",
              "      </button>\n",
              "      \n",
              "  <style>\n",
              "    .colab-df-container {\n",
              "      display:flex;\n",
              "      flex-wrap:wrap;\n",
              "      gap: 12px;\n",
              "    }\n",
              "\n",
              "    .colab-df-convert {\n",
              "      background-color: #E8F0FE;\n",
              "      border: none;\n",
              "      border-radius: 50%;\n",
              "      cursor: pointer;\n",
              "      display: none;\n",
              "      fill: #1967D2;\n",
              "      height: 32px;\n",
              "      padding: 0 0 0 0;\n",
              "      width: 32px;\n",
              "    }\n",
              "\n",
              "    .colab-df-convert:hover {\n",
              "      background-color: #E2EBFA;\n",
              "      box-shadow: 0px 1px 2px rgba(60, 64, 67, 0.3), 0px 1px 3px 1px rgba(60, 64, 67, 0.15);\n",
              "      fill: #174EA6;\n",
              "    }\n",
              "\n",
              "    [theme=dark] .colab-df-convert {\n",
              "      background-color: #3B4455;\n",
              "      fill: #D2E3FC;\n",
              "    }\n",
              "\n",
              "    [theme=dark] .colab-df-convert:hover {\n",
              "      background-color: #434B5C;\n",
              "      box-shadow: 0px 1px 3px 1px rgba(0, 0, 0, 0.15);\n",
              "      filter: drop-shadow(0px 1px 2px rgba(0, 0, 0, 0.3));\n",
              "      fill: #FFFFFF;\n",
              "    }\n",
              "  </style>\n",
              "\n",
              "      <script>\n",
              "        const buttonEl =\n",
              "          document.querySelector('#df-54191faf-52eb-4b06-82d1-934b9b3c489f button.colab-df-convert');\n",
              "        buttonEl.style.display =\n",
              "          google.colab.kernel.accessAllowed ? 'block' : 'none';\n",
              "\n",
              "        async function convertToInteractive(key) {\n",
              "          const element = document.querySelector('#df-54191faf-52eb-4b06-82d1-934b9b3c489f');\n",
              "          const dataTable =\n",
              "            await google.colab.kernel.invokeFunction('convertToInteractive',\n",
              "                                                     [key], {});\n",
              "          if (!dataTable) return;\n",
              "\n",
              "          const docLinkHtml = 'Like what you see? Visit the ' +\n",
              "            '<a target=\"_blank\" href=https://colab.research.google.com/notebooks/data_table.ipynb>data table notebook</a>'\n",
              "            + ' to learn more about interactive tables.';\n",
              "          element.innerHTML = '';\n",
              "          dataTable['output_type'] = 'display_data';\n",
              "          await google.colab.output.renderOutput(dataTable, element);\n",
              "          const docLink = document.createElement('div');\n",
              "          docLink.innerHTML = docLinkHtml;\n",
              "          element.appendChild(docLink);\n",
              "        }\n",
              "      </script>\n",
              "    </div>\n",
              "  </div>\n",
              "  "
            ]
          },
          "metadata": {},
          "execution_count": 1070
        }
      ]
    },
    {
      "cell_type": "code",
      "source": [
        "# checking the number of rows and columns in the dataframe\n",
        "mail_data.shape"
      ],
      "metadata": {
        "colab": {
          "base_uri": "https://localhost:8080/"
        },
        "id": "3h1hGY90l_tI",
        "outputId": "d4477b37-49a7-41ec-a413-e1629216b038"
      },
      "execution_count": null,
      "outputs": [
        {
          "output_type": "execute_result",
          "data": {
            "text/plain": [
              "(5572, 2)"
            ]
          },
          "metadata": {},
          "execution_count": 1071
        }
      ]
    },
    {
      "cell_type": "markdown",
      "source": [
        "Visualization of spam or ham data which shown as pie graph"
      ],
      "metadata": {
        "id": "-yq6vcLHqajS"
      }
    },
    {
      "cell_type": "code",
      "source": [
        "# set spam is 0 and ham is 1\n",
        "\n",
        "mail_data.loc[mail_data['Category'] == 'spam', 'Category',] = 0\n",
        "mail_data.loc[mail_data['Category'] == 'ham', 'Category',] = 1\n",
        "plt.rcParams[\"figure.figsize\"] = [8,10] \n",
        "mail_data.Category.value_counts().plot(kind='pie', autopct='%1.0f%%')\n"
      ],
      "metadata": {
        "colab": {
          "base_uri": "https://localhost:8080/",
          "height": 495
        },
        "id": "lF7sxpqSmAjZ",
        "outputId": "084c6091-3299-4262-c3ef-a687a4ba2812"
      },
      "execution_count": null,
      "outputs": [
        {
          "output_type": "execute_result",
          "data": {
            "text/plain": [
              "<matplotlib.axes._subplots.AxesSubplot at 0x7f43a2568a50>"
            ]
          },
          "metadata": {},
          "execution_count": 1072
        },
        {
          "output_type": "display_data",
          "data": {
            "text/plain": [
              "<Figure size 576x720 with 1 Axes>"
            ],
            "image/png": "[encoded data removed]"
          },
          "metadata": {}
        }
      ]
    },
    {
      "cell_type": "code",
      "source": [
        "# separating the data as message and category\n",
        "\n",
        "X = mail_data['Message']\n",
        "\n",
        "Y = mail_data['Category']"
      ],
      "metadata": {
        "id": "O6-u7U6_mBe0"
      },
      "execution_count": null,
      "outputs": []
    },
    {
      "cell_type": "code",
      "source": [
        "print(X)"
      ],
      "metadata": {
        "colab": {
          "base_uri": "https://localhost:8080/"
        },
        "id": "3oQLrYLMmCRa",
        "outputId": "bc88fced-9472-4e44-fe1c-368fb78b6094"
      },
      "execution_count": null,
      "outputs": [
        {
          "output_type": "stream",
          "name": "stdout",
          "text": [
            "0       Go until jurong point, crazy.. Available only ...\n",
            "1                           Ok lar... Joking wif u oni...\n",
            "2       Free entry in 2 a wkly comp to win FA Cup fina...\n",
            "3       U dun say so early hor... U c already then say...\n",
            "4       Nah I don't think he goes to usf, he lives aro...\n",
            "                              ...                        \n",
            "5567    This is the 2nd time we have tried 2 contact u...\n",
            "5568                 Will ü b going to esplanade fr home?\n",
            "5569    Pity, * was in mood for that. So...any other s...\n",
            "5570                     Dont forget to do your homeworks\n",
            "5571                           Rofl. Its true to its name\n",
            "Name: Message, Length: 5572, dtype: object\n"
          ]
        }
      ]
    },
    {
      "cell_type": "code",
      "source": [
        "print(Y)"
      ],
      "metadata": {
        "colab": {
          "base_uri": "https://localhost:8080/"
        },
        "id": "iw3yoiDMmDXD",
        "outputId": "8934a138-c698-497a-a9d8-1128a3462e4a"
      },
      "execution_count": null,
      "outputs": [
        {
          "output_type": "stream",
          "name": "stdout",
          "text": [
            "0       1\n",
            "1       1\n",
            "2       0\n",
            "3       1\n",
            "4       1\n",
            "       ..\n",
            "5567    0\n",
            "5568    1\n",
            "5569    1\n",
            "5570    1\n",
            "5571    1\n",
            "Name: Category, Length: 5572, dtype: object\n"
          ]
        }
      ]
    },
    {
      "cell_type": "markdown",
      "source": [
        "Identify training and test variables, test size and random_state "
      ],
      "metadata": {
        "id": "M5csWZMJqmX3"
      }
    },
    {
      "cell_type": "code",
      "source": [
        "X_train, X_test, Y_train, Y_test = train_test_split(X, Y, test_size=0.2, random_state=0)"
      ],
      "metadata": {
        "id": "vRVp-FOimETu"
      },
      "execution_count": null,
      "outputs": []
    },
    {
      "cell_type": "code",
      "source": [
        "print(X.shape)\n",
        "print(X_train.shape)\n",
        "print(X_test.shape)"
      ],
      "metadata": {
        "colab": {
          "base_uri": "https://localhost:8080/"
        },
        "id": "ZA8nBJuZmF7h",
        "outputId": "1c8d0ba8-b326-472b-e8dc-ab9f851fbada"
      },
      "execution_count": null,
      "outputs": [
        {
          "output_type": "stream",
          "name": "stdout",
          "text": [
            "(5572,)\n",
            "(4457,)\n",
            "(1115,)\n"
          ]
        }
      ]
    },
    {
      "cell_type": "markdown",
      "source": [
        "Converting strings into integers"
      ],
      "metadata": {
        "id": "3ZZaxytCqtak"
      }
    },
    {
      "cell_type": "code",
      "source": [
        "\n",
        "sc = StandardScaler()\n",
        "textToNumbers = TfidfVectorizer(min_df = 1, stop_words='english', lowercase='True')\n",
        "\n",
        "X_train_numbers = textToNumbers.fit_transform(X_train)\n",
        "X_test_numbers = textToNumbers.transform(X_test)\n",
        "\n",
        "\n",
        "Y_train = Y_train.astype('int')\n",
        "Y_test = Y_test.astype('int')"
      ],
      "metadata": {
        "id": "hgklHJPWmHNa"
      },
      "execution_count": null,
      "outputs": []
    },
    {
      "cell_type": "markdown",
      "source": [
        "Classifier used "
      ],
      "metadata": {
        "id": "uuJkmyz1qzvk"
      }
    },
    {
      "cell_type": "code",
      "source": [
        "classifier = LogisticRegression(random_state=0, solver=\"liblinear\")\n",
        "classifier.fit(X_train_numbers, Y_train)"
      ],
      "metadata": {
        "colab": {
          "base_uri": "https://localhost:8080/"
        },
        "id": "_MWkVq6omIOB",
        "outputId": "fbb23f10-b1f6-4633-f0ba-88d0ab628948"
      },
      "execution_count": null,
      "outputs": [
        {
          "output_type": "execute_result",
          "data": {
            "text/plain": [
              "LogisticRegression(random_state=0, solver='liblinear')"
            ]
          },
          "metadata": {},
          "execution_count": 1079
        }
      ]
    },
    {
      "cell_type": "code",
      "source": [
        "print(X_train)"
      ],
      "metadata": {
        "colab": {
          "base_uri": "https://localhost:8080/"
        },
        "id": "FeVXSAiAmIG-",
        "outputId": "5aed2d78-aec1-4bd1-840e-cae2e7f4d611"
      },
      "execution_count": null,
      "outputs": [
        {
          "output_type": "stream",
          "name": "stdout",
          "text": [
            "1114    No I'm good for the movie, is it ok if I leave...\n",
            "3589    If you were/are free i can give. Otherwise nal...\n",
            "3095    Have you emigrated or something? Ok maybe 5.30...\n",
            "1012          I just got home babe, are you still awake ?\n",
            "3320                      Kay... Since we are out already\n",
            "                              ...                        \n",
            "4931    Hi, all friends are waiting for you to text th...\n",
            "3264                              So u gonna get deus ex?\n",
            "1653    For ur chance to win a £250 cash every wk TXT:...\n",
            "2607    R U &SAM P IN EACHOTHER. IF WE MEET WE CAN GO ...\n",
            "2732    Mm feeling sleepy. today itself i shall get th...\n",
            "Name: Message, Length: 4457, dtype: object\n"
          ]
        }
      ]
    },
    {
      "cell_type": "code",
      "source": [
        "print(X_train_numbers)"
      ],
      "metadata": {
        "colab": {
          "base_uri": "https://localhost:8080/"
        },
        "id": "9-qBW8SmmKhu",
        "outputId": "01dff96c-7797-4406-a3a2-bf003fdcbed8"
      },
      "execution_count": null,
      "outputs": [
        {
          "output_type": "stream",
          "name": "stdout",
          "text": [
            "  (0, 3408)\t0.6418008618863358\n",
            "  (0, 3944)\t0.40459749284424307\n",
            "  (0, 4760)\t0.2937599690543961\n",
            "  (0, 4471)\t0.4933198981059812\n",
            "  (0, 3090)\t0.30778739607068667\n",
            "  (1, 3839)\t0.44104519567199485\n",
            "  (1, 4558)\t0.44104519567199485\n",
            "  (1, 2525)\t0.44104519567199485\n",
            "  (1, 808)\t0.44104519567199485\n",
            "  (1, 4539)\t0.4205121715674033\n",
            "  (1, 2891)\t0.21233477120404443\n",
            "  (2, 3386)\t0.5133141633463273\n",
            "  (2, 1310)\t0.34462014146959175\n",
            "  (2, 431)\t0.4077104256374456\n",
            "  (2, 4277)\t0.36445133334144264\n",
            "  (2, 2494)\t0.5133141633463273\n",
            "  (2, 4760)\t0.2349500626979615\n",
            "  (3, 1131)\t0.6477093412567694\n",
            "  (3, 1153)\t0.4517475179218396\n",
            "  (3, 3365)\t0.38464574503668536\n",
            "  (3, 3107)\t0.3611351631471391\n",
            "  (3, 3762)\t0.31309077607627067\n",
            "  (4, 3789)\t1.0\n",
            "  (5, 3715)\t0.6020708068994186\n",
            "  (5, 7353)\t0.7984426989330436\n",
            "  :\t:\n",
            "  (4454, 348)\t0.2816003924365337\n",
            "  (4454, 110)\t0.30005905677873096\n",
            "  (4454, 2059)\t0.25655354562534544\n",
            "  (4454, 4473)\t0.30005905677873096\n",
            "  (4454, 646)\t0.30005905677873096\n",
            "  (4454, 372)\t0.23956998249101863\n",
            "  (4454, 790)\t0.2816003924365337\n",
            "  (4454, 7402)\t0.18008273368354058\n",
            "  (4454, 7315)\t0.4498370326903325\n",
            "  (4454, 6885)\t0.16586927243608734\n",
            "  (4454, 6876)\t0.219348287435983\n",
            "  (4454, 1614)\t0.18782096303937088\n",
            "  (4454, 7283)\t0.19495253863074433\n",
            "  (4454, 1658)\t0.21128500375912157\n",
            "  (4454, 6985)\t0.14052983324339283\n",
            "  (4455, 2425)\t0.617585164773377\n",
            "  (4455, 5732)\t0.5526101356478642\n",
            "  (4455, 4295)\t0.3634744995680554\n",
            "  (4455, 3410)\t0.4255548030452034\n",
            "  (4456, 6052)\t0.5490155787253892\n",
            "  (4456, 4400)\t0.4542018586423069\n",
            "  (4456, 2714)\t0.40079007123433724\n",
            "  (4456, 5887)\t0.3950554110813791\n",
            "  (4456, 6743)\t0.2873431830527075\n",
            "  (4456, 2127)\t0.30498360947948605\n"
          ]
        }
      ]
    },
    {
      "cell_type": "code",
      "source": [
        "model = LogisticRegression()"
      ],
      "metadata": {
        "id": "giofXF75mLsi"
      },
      "execution_count": null,
      "outputs": []
    },
    {
      "cell_type": "markdown",
      "source": [
        "Logistic Regression"
      ],
      "metadata": {
        "id": "GfByyOH5sQmI"
      }
    },
    {
      "cell_type": "code",
      "source": [
        "\n",
        "model.fit(X_train_numbers, Y_train)"
      ],
      "metadata": {
        "colab": {
          "base_uri": "https://localhost:8080/"
        },
        "id": "SlZ6KSOSmM9H",
        "outputId": "ff7685d0-3dc4-4d17-ef05-b7f1b3bbb107"
      },
      "execution_count": null,
      "outputs": [
        {
          "output_type": "execute_result",
          "data": {
            "text/plain": [
              "LogisticRegression()"
            ]
          },
          "metadata": {},
          "execution_count": 1083
        }
      ]
    },
    {
      "cell_type": "code",
      "source": [
        "\n",
        "\n",
        "predictionTraining = model.predict(X_train_numbers)\n"
      ],
      "metadata": {
        "id": "G0inG50lmNxT"
      },
      "execution_count": null,
      "outputs": []
    },
    {
      "cell_type": "code",
      "source": [
        "\n",
        "predictionTest = model.predict(X_test_numbers)\n"
      ],
      "metadata": {
        "id": "s1kC99vTmOtx"
      },
      "execution_count": null,
      "outputs": []
    },
    {
      "cell_type": "markdown",
      "source": [
        "Analyzing prediction metrics"
      ],
      "metadata": {
        "id": "h9Dyvm7osVJC"
      }
    },
    {
      "cell_type": "code",
      "source": [
        "accuracy = metrics.accuracy_score(Y_test, predictionTest) \n",
        "print(\"Accuracy score:\",accuracy)\n",
        "precision = metrics.precision_score(Y_test, predictionTest) \n",
        "print(\"Precision score:\",precision)\n",
        "recall = metrics.recall_score(Y_test, predictionTest) \n",
        "print(\"Recall score:\",recall)"
      ],
      "metadata": {
        "colab": {
          "base_uri": "https://localhost:8080/"
        },
        "id": "S6KeJG_nr_wH",
        "outputId": "da3b7b4c-8eb8-4728-bde8-bb375d7f9848"
      },
      "execution_count": null,
      "outputs": [
        {
          "output_type": "stream",
          "name": "stdout",
          "text": [
            "Accuracy score: 0.9668161434977578\n",
            "Precision score: 0.9636363636363636\n",
            "Recall score: 0.9989528795811519\n"
          ]
        }
      ]
    },
    {
      "cell_type": "code",
      "source": [
        "print(confusion_matrix(Y_test,predictionTest)) \n",
        "print(classification_report(Y_test,predictionTest)) \n",
        "print(accuracy_score(Y_test,predictionTest))"
      ],
      "metadata": {
        "colab": {
          "base_uri": "https://localhost:8080/"
        },
        "id": "MyM-mahsp0an",
        "outputId": "13b7cd72-42c8-4afb-affe-8eb851e4866f"
      },
      "execution_count": null,
      "outputs": [
        {
          "output_type": "stream",
          "name": "stdout",
          "text": [
            "[[124  36]\n",
            " [  1 954]]\n",
            "              precision    recall  f1-score   support\n",
            "\n",
            "           0       0.99      0.78      0.87       160\n",
            "           1       0.96      1.00      0.98       955\n",
            "\n",
            "    accuracy                           0.97      1115\n",
            "   macro avg       0.98      0.89      0.93      1115\n",
            "weighted avg       0.97      0.97      0.97      1115\n",
            "\n",
            "0.9668161434977578\n"
          ]
        }
      ]
    },
    {
      "cell_type": "markdown",
      "source": [
        ""
      ],
      "metadata": {
        "id": "uBH6vuJrueCu"
      }
    },
    {
      "cell_type": "code",
      "source": [
        "def detectEmail(inputMail):\n",
        "  input_data_features = textToNumbers.transform(inputMail)\n",
        "  prediction = model.predict(input_data_features)\n",
        "  print(prediction)\n",
        "\n",
        "\n",
        "  if (prediction[0]==1):\n",
        "    \n",
        "    print('Not spam mail : ',inputMail)\n",
        "\n",
        "  else:\n",
        "    print('Spam mail : ',inputMail)\n",
        "\n",
        "ham_mail =  [\"Hi everyone! Dont forget to upload your assignments\"]\n",
        "spam_mail = [\"You are a winner   You earned 5 Bitcoin ! 2 claim 0871277810910p/min\"]\n",
        "detectEmail(ham_mail)\n",
        "detectEmail(spam_mail)\n",
        "\n",
        "\n"
      ],
      "metadata": {
        "colab": {
          "base_uri": "https://localhost:8080/"
        },
        "id": "X60Ce6SAui_v",
        "outputId": "464b481a-7918-4d83-cbe9-9b55ccd67d10"
      },
      "execution_count": null,
      "outputs": [
        {
          "output_type": "stream",
          "name": "stdout",
          "text": [
            "[1]\n",
            "Not spam mail :  ['Hi everyone! Dont forget to upload your assignments']\n",
            "[0]\n",
            "Spam mail :  ['You are a winner   You earned 5 Bitcoin ! 2 claim 0871277810910p/min']\n"
          ]
        }
      ]
    }
  ],
  "metadata": {
    "colab": {
      "name": "SENG352 Term Project.ipynb",
      "provenance": [],
      "collapsed_sections": [],
      "include_colab_link": true
    },
    "kernelspec": {
      "display_name": "Python 3 (ipykernel)",
      "language": "python",
      "name": "python3"
    },
    "language_info": {
      "codemirror_mode": {
        "name": "ipython",
        "version": 3
      },
      "file_extension": ".py",
      "mimetype": "text/x-python",
      "name": "python",
      "nbconvert_exporter": "python",
      "pygments_lexer": "ipython3",
      "version": "3.9.7"
    }
  },
  "nbformat": 4,
  "nbformat_minor": 0
}
